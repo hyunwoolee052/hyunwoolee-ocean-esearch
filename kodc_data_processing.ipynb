{
 "cells": [
  {
   "cell_type": "code",
   "execution_count": null,
   "id": "d2938c0e",
   "metadata": {},
   "outputs": [],
   "source": [
    "# Import standard libraries\n",
    "from pathlib import Path\n",
    "\n",
    "# import third-party libraries\n",
    "import numpy as np\n",
    "import pandas as pd\n",
    "import xarray as xr\n",
    "import matplotlib.pyplot as plt\n"
   ]
  },
  {
   "cell_type": "code",
   "execution_count": null,
   "id": "da0c6787",
   "metadata": {},
   "outputs": [],
   "source": [
    "# Define constants\n",
    "STANDARD_DEPTHS = np.array(\n",
    "    [\n",
    "        0,\n",
    "        10,\n",
    "        20,\n",
    "        30,\n",
    "        50,\n",
    "        75,\n",
    "        100,\n",
    "        125,\n",
    "        150,\n",
    "        200,\n",
    "        250,\n",
    "        300,\n",
    "        400,\n",
    "        500,\n",
    "    ]\n",
    ")"
   ]
  },
  {
   "cell_type": "code",
   "execution_count": null,
   "id": "c6d42a2f",
   "metadata": {},
   "outputs": [],
   "source": [
    "DATA_DIR = Path(\"data\")"
   ]
  },
  {
   "cell_type": "code",
   "execution_count": null,
   "id": "00fe9160",
   "metadata": {},
   "outputs": [],
   "source": [
    "years = np.arange(1968, 2025, dtype=int)\n",
    "months = np.arange(1, 13, dtype=int)\n",
    "params = [\n",
    "    \"obs_dtm\",\n",
    "    \"wtr_dep\",\n",
    "    \"lon\",\n",
    "    \"lat\",\n",
    "    \"wtr_tmp\",\n",
    "    \"sal\",\n",
    "    \"dox\",\n",
    "    \"qc_wtr\",\n",
    "    \"qc_sal\",\n",
    "    \"qc_dox\",\n",
    "    \"sln_cde\",\n",
    "    \"sta_cde\",\n",
    "]"
   ]
  },
  {
   "cell_type": "code",
   "execution_count": null,
   "id": "9b15444d",
   "metadata": {},
   "outputs": [],
   "source": [
    "df_list = []\n",
    "for year in years:\n",
    "    for month in months:\n",
    "        fname = f\"sooList_{year}{month:02d}.json\"\n",
    "        file_path = DATA_DIR / fname\n",
    "        if not file_path.exists():\n",
    "            print(f\"File {fname} does not exist. Skipping...\")\n",
    "            continue\n",
    "        data = pd.read_json(file_path)\n",
    "        df_list.append(\n",
    "            pd.DataFrame(\n",
    "                {\n",
    "                    \"observed_time\": pd.to_datetime(data[\"obs_dtm\"]),\n",
    "                    \"latitude\": data[\"lat\"],\n",
    "                    \"longitude\": data[\"lon\"],\n",
    "                    \"depth\": data[\"wtr_dep\"],\n",
    "                    \"temperature\": data[\"wtr_tmp\"],\n",
    "                    \"temperature_qc\": data[\"qc_wtr\"],\n",
    "                    \"salinity\": data[\"sal\"],\n",
    "                    \"salinity_qc\": data[\"qc_sal\"],\n",
    "                    \"dissolved_oxygen\": data[\"dox\"],\n",
    "                    \"dissolved_oxygen_qc\": data[\"qc_dox\"],\n",
    "                    \"line\": data[\"sln_cde\"],\n",
    "                    \"station\": data[\"sta_cde\"],\n",
    "                }\n",
    "            )\n",
    "        )\n",
    "if df_list:\n",
    "    df = pd.concat(df_list, ignore_index=True)\n",
    "else:\n",
    "    df = pd.DataFrame(\n",
    "        columns=[\n",
    "            \"observed_time\",\n",
    "            \"latitude\",\n",
    "            \"longitude\",\n",
    "            \"depth\",\n",
    "            \"temperature\",\n",
    "            \"temperature_qc\",\n",
    "            \"salinity\",\n",
    "            \"salinity_qc\",\n",
    "            \"dissolved_oxygen\",\n",
    "            \"dissolved_oxygen_qc\",\n",
    "            \"line\",\n",
    "            \"station\",\n",
    "        ]\n",
    "    )\n",
    "print(f\"Done. Dataframe shape: {df.shape}\")"
   ]
  },
  {
   "cell_type": "code",
   "execution_count": null,
   "id": "148c5d6e",
   "metadata": {},
   "outputs": [],
   "source": [
    "ds = xr.Dataset(\n",
    "    {\n",
    "        \"temperature\": ([\"obs\"], df[\"temperature\"].values),\n",
    "        \"temperature_qc\": ([\"obs\"], df[\"temperature_qc\"].values),\n",
    "        \"salinity\": ([\"obs\"], df[\"salinity\"].values),\n",
    "        \"salinity_qc\": ([\"obs\"], df[\"salinity_qc\"].values),\n",
    "        \"dissolved_oxygen\": ([\"obs\"], df[\"dissolved_oxygen\"].values),\n",
    "        \"dissolved_oxygen_qc\": ([\"obs\"], df[\"dissolved_oxygen_qc\"].values),\n",
    "    },\n",
    "    coords={\n",
    "        \"obs_time\": ([\"obs\"], df[\"observed_time\"].values),\n",
    "        \"longitude\": ([\"obs\"], df[\"longitude\"].values),\n",
    "        \"latitude\": ([\"obs\"], df[\"latitude\"].values),\n",
    "        \"depth\": ([\"obs\"], df[\"depth\"].values),\n",
    "    },\n",
    ")\n"
   ]
  },
  {
   "cell_type": "code",
   "execution_count": null,
   "id": "47acb593",
   "metadata": {},
   "outputs": [],
   "source": [
    "ds[\"temperature\"].attrs[\"units\"] = \"Celsius\"\n",
    "ds[\"salinity\"].attrs = {\n",
    "    \"units\": \"psu\",\n",
    "    \"unit description\": \"Practical Salinity Unit\",\n",
    "}\n",
    "ds[\"dissolved_oxygen\"].attrs[\"units\"] = \"ml/L\"\n"
   ]
  },
  {
   "cell_type": "code",
   "execution_count": null,
   "id": "9ef99643",
   "metadata": {},
   "outputs": [],
   "source": [
    "ds.to_netcdf(DATA_DIR / \"soolist_1968010120241231.nc\")\n",
    "print(f\"Dataset saved to {DATA_DIR / 'soolist_1968010120241231.nc'}\")"
   ]
  },
  {
   "cell_type": "code",
   "execution_count": null,
   "id": "5e06fde6",
   "metadata": {},
   "outputs": [],
   "source": [
    "# Select surface (depth == 0) temperature from df\n",
    "surface_df = df[df[\"depth\"].astype(float) == 0]\n",
    "\n",
    "plt.figure(figsize=(10, 6))\n",
    "plt.scatter(\n",
    "    surface_df[\"longitude\"],\n",
    "    surface_df[\"latitude\"],\n",
    "    c=surface_df[\"temperature\"],\n",
    "    cmap=\"coolwarm\",\n",
    "    s=10,\n",
    ")\n",
    "plt.colorbar(label=\"Surface Temperature (°C)\")\n",
    "plt.xlabel(\"Longitude\")\n",
    "plt.ylabel(\"Latitude\")\n",
    "plt.title(\"Surface Temperature Distribution\")\n",
    "plt.show()"
   ]
  },
  {
   "cell_type": "code",
   "execution_count": null,
   "id": "a109387e",
   "metadata": {},
   "outputs": [],
   "source": []
  }
 ],
 "metadata": {
  "kernelspec": {
   "display_name": "py313",
   "language": "python",
   "name": "python3"
  },
  "language_info": {
   "codemirror_mode": {
    "name": "ipython",
    "version": 3
   },
   "file_extension": ".py",
   "mimetype": "text/x-python",
   "name": "python",
   "nbconvert_exporter": "python",
   "pygments_lexer": "ipython3",
   "version": "3.13.5"
  }
 },
 "nbformat": 4,
 "nbformat_minor": 5
}
