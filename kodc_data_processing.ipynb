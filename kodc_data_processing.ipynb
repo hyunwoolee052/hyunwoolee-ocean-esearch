{
 "cells": [
  {
   "cell_type": "code",
   "execution_count": 11,
   "id": "d2938c0e",
   "metadata": {},
   "outputs": [],
   "source": [
    "# Import standard libraries\n",
    "from pathlib import Path\n",
    "from datetime import datetime\n",
    "\n",
    "# import third-party libraries\n",
    "import numpy as np\n",
    "import pandas as pd\n",
    "import scipy as sp\n",
    "import xarray as xr\n"
   ]
  },
  {
   "cell_type": "code",
   "execution_count": 12,
   "id": "da0c6787",
   "metadata": {},
   "outputs": [],
   "source": [
    "# Define constants\n",
    "DATA_DIR = Path.cwd() / \"data/\"\n",
    "STANDARD_DEPTHS = np.array(\n",
    "    [\n",
    "        0,\n",
    "        10,\n",
    "        20,\n",
    "        30,\n",
    "        50,\n",
    "        75,\n",
    "        100,\n",
    "        125,\n",
    "        150,\n",
    "        200,\n",
    "        250,\n",
    "        300,\n",
    "        400,\n",
    "        500,\n",
    "    ]\n",
    ")"
   ]
  },
  {
   "cell_type": "code",
   "execution_count": 13,
   "id": "af79d8ca",
   "metadata": {},
   "outputs": [],
   "source": [
    "def concat_data_array(param_name: str, sdate: str, edate: str) -> np.ndarray:\n",
    "    \"\"\"\n",
    "    Concatenate data arrays from JSON files for a given parameter and date range.\n",
    "\n",
    "    Parameters\n",
    "    ----------\n",
    "    param_name : str\n",
    "        Name of the parameter to extract from the JSON files (e.g., 'wtr_tmp', 'sal').\n",
    "    sdate : str\n",
    "        Start date in the format 'YYYY-MM-DD'.\n",
    "    edate : str\n",
    "        End date in the format 'YYYY-MM-DD'.\n",
    "\n",
    "    Returns\n",
    "    -------\n",
    "    np.ndarray\n",
    "        Concatenated array of the parameter values across the specified date range.\n",
    "    \"\"\"\n",
    "    data_list = []\n",
    "    sdate_dt = datetime.strptime(sdate, \"%Y-%m-%d\")\n",
    "    edate_dt = datetime.strptime(edate, \"%Y-%m-%d\")\n",
    "    start_year = sdate_dt.year\n",
    "    end_year = edate_dt.year\n",
    "    for year in range(start_year, end_year + 1):\n",
    "        for month in range(1, 13):\n",
    "            f = DATA_DIR / f\"sooList_{year}{month:02d}.json\"\n",
    "            if not f.is_file():\n",
    "                continue\n",
    "            df = pd.read_json(f)\n",
    "            arr = df[param_name].replace([\"\", None], np.nan)\n",
    "            data_list.append(arr.values)\n",
    "    if data_list:\n",
    "        return np.concatenate(data_list)\n",
    "    return np.array([])\n"
   ]
  },
  {
   "cell_type": "code",
   "execution_count": 16,
   "id": "d28d96eb",
   "metadata": {},
   "outputs": [],
   "source": [
    "# Set date range\n",
    "sdate = \"1968-01-01\"\n",
    "edate = \"2024-12-31\"\n",
    "\n",
    "# Define parameters to extract\n",
    "params = [\n",
    "    \"wtr_tmp\",  # Water temperature\n",
    "    \"wtr_dep\",  # Water depth\n",
    "    \"obs_dtm\",  # Observation date and time\n",
    "    \"lon\",      # Longitude\n",
    "    \"lat\",      # Latitude\n",
    "    \"sal\",      # Salinity\n",
    "    \"dox\",       # Dissolved oxygen\n",
    "    \"qc_wtr\",  # Quality control for water temperature\n",
    "    \"qc_sal\",      # Quality control for salinity\n",
    "    \"qc_dox\",      # Quality control for dissolved oxygen\n",
    "]\n"
   ]
  },
  {
   "cell_type": "code",
   "execution_count": null,
   "id": "b03044e2",
   "metadata": {},
   "outputs": [],
   "source": [
    "# Collect data for each parameter\n",
    "for param in params:\n",
    "    if param == \"obs_dtm\":\n",
    "        # Special handling for observation date and time\n",
    "        obs_time = concat_data_array(param, sdate, edate)\n",
    "        obs_time = pd.to_datetime(obs_time, errors=\"coerce\")\n",
    "        obs_time = obs_time.dropna().values\n",
    "    else:\n",
    "        # General case for other parameters\n",
    "        data = concat_data_array(param, sdate, edate)\n",
    "        if param == \"wtr_dep\":\n",
    "            depth = data\n",
    "        elif param == \"lon\":\n",
    "            longitude = data\n",
    "        elif param == \"lat\":\n",
    "            latitude = data\n",
    "        elif param == \"wtr_tmp\":\n",
    "            temperature = data\n",
    "        elif param == \"sal\":\n",
    "            salinity = data\n",
    "        elif param == \"dox\":\n",
    "            dissolved_oxygen = data\n",
    "        elif param == \"qc_wtr\":\n",
    "            qc_wtr = data\n",
    "        elif param == \"qc_sal\":\n",
    "            qc_sal = data\n",
    "        elif param == \"qc_dox\":\n",
    "            qc_dox = data\n"
   ]
  },
  {
   "cell_type": "code",
   "execution_count": null,
   "id": "148c5d6e",
   "metadata": {},
   "outputs": [
    {
     "ename": "NameError",
     "evalue": "name 'qc_wtr_tmp' is not defined",
     "output_type": "error",
     "traceback": [
      "\u001b[31m---------------------------------------------------------------------------\u001b[39m",
      "\u001b[31mNameError\u001b[39m                                 Traceback (most recent call last)",
      "\u001b[36mCell\u001b[39m\u001b[36m \u001b[39m\u001b[32mIn[18]\u001b[39m\u001b[32m, line 4\u001b[39m\n\u001b[32m      1\u001b[39m ds = xr.Dataset(\n\u001b[32m      2\u001b[39m     {\n\u001b[32m      3\u001b[39m         \u001b[33m\"\u001b[39m\u001b[33mtemperature\u001b[39m\u001b[33m\"\u001b[39m: ([\u001b[33m\"\u001b[39m\u001b[33mobs\u001b[39m\u001b[33m\"\u001b[39m], temperature),\n\u001b[32m----> \u001b[39m\u001b[32m4\u001b[39m         \u001b[33m\"\u001b[39m\u001b[33mtemperature_qc\u001b[39m\u001b[33m\"\u001b[39m: ([\u001b[33m\"\u001b[39m\u001b[33mobs\u001b[39m\u001b[33m\"\u001b[39m], \u001b[43mqc_wtr_tmp\u001b[49m),\n\u001b[32m      5\u001b[39m         \u001b[33m\"\u001b[39m\u001b[33msalinity\u001b[39m\u001b[33m\"\u001b[39m: ([\u001b[33m\"\u001b[39m\u001b[33mobs\u001b[39m\u001b[33m\"\u001b[39m], salinity),\n\u001b[32m      6\u001b[39m         \u001b[33m\"\u001b[39m\u001b[33msalinity_qc\u001b[39m\u001b[33m\"\u001b[39m: ([\u001b[33m\"\u001b[39m\u001b[33mobs\u001b[39m\u001b[33m\"\u001b[39m], qc_sal),\n\u001b[32m      7\u001b[39m         \u001b[33m\"\u001b[39m\u001b[33mdissolved_oxygen\u001b[39m\u001b[33m\"\u001b[39m: ([\u001b[33m\"\u001b[39m\u001b[33mobs\u001b[39m\u001b[33m\"\u001b[39m], dissolved_oxygen),\n\u001b[32m      8\u001b[39m         \u001b[33m\"\u001b[39m\u001b[33mdissolved_oxygen_qc\u001b[39m\u001b[33m\"\u001b[39m: ([\u001b[33m\"\u001b[39m\u001b[33mobs\u001b[39m\u001b[33m\"\u001b[39m], qc_dox),\n\u001b[32m      9\u001b[39m     },\n\u001b[32m     10\u001b[39m     coords={\n\u001b[32m     11\u001b[39m         \u001b[33m\"\u001b[39m\u001b[33mobs_time\u001b[39m\u001b[33m\"\u001b[39m: ([\u001b[33m\"\u001b[39m\u001b[33mobs\u001b[39m\u001b[33m\"\u001b[39m], obs_time),\n\u001b[32m     12\u001b[39m         \u001b[33m\"\u001b[39m\u001b[33mlongitude\u001b[39m\u001b[33m\"\u001b[39m: ([\u001b[33m\"\u001b[39m\u001b[33mobs\u001b[39m\u001b[33m\"\u001b[39m], longitude),\n\u001b[32m     13\u001b[39m         \u001b[33m\"\u001b[39m\u001b[33mlatitude\u001b[39m\u001b[33m\"\u001b[39m: ([\u001b[33m\"\u001b[39m\u001b[33mobs\u001b[39m\u001b[33m\"\u001b[39m], latitude),\n\u001b[32m     14\u001b[39m         \u001b[33m\"\u001b[39m\u001b[33mdepth\u001b[39m\u001b[33m\"\u001b[39m: ([\u001b[33m\"\u001b[39m\u001b[33mobs\u001b[39m\u001b[33m\"\u001b[39m], depth),\n\u001b[32m     15\u001b[39m     }\n\u001b[32m     16\u001b[39m )\n",
      "\u001b[31mNameError\u001b[39m: name 'qc_wtr_tmp' is not defined"
     ]
    }
   ],
   "source": [
    "ds = xr.Dataset(\n",
    "    {\n",
    "        \"temperature\": ([\"obs\"], temperature),\n",
    "        \"temperature_qc\": ([\"obs\"], qc_wtr),\n",
    "        \"salinity\": ([\"obs\"], salinity),\n",
    "        \"salinity_qc\": ([\"obs\"], qc_sal),\n",
    "        \"dissolved_oxygen\": ([\"obs\"], dissolved_oxygen),\n",
    "        \"dissolved_oxygen_qc\": ([\"obs\"], qc_dox),\n",
    "    },\n",
    "    coords={\n",
    "        \"obs_time\": ([\"obs\"], obs_time),\n",
    "        \"longitude\": ([\"obs\"], longitude),\n",
    "        \"latitude\": ([\"obs\"], latitude),\n",
    "        \"depth\": ([\"obs\"], depth),\n",
    "    }\n",
    ")\n"
   ]
  },
  {
   "cell_type": "code",
   "execution_count": null,
   "id": "47acb593",
   "metadata": {},
   "outputs": [],
   "source": [
    "ds[\"temperature\"].attrs[\"units\"] = \"Celsius\"\n",
    "ds[\"salinity\"].attrs = {\n",
    "    \"units\": \"psu\",\n",
    "    \"unit description\": \"Practical Salinity Unit\",\n",
    "}\n",
    "ds[\"dissolved_oxygen\"].attrs[\"units\"] = \"ml/L\"\n"
   ]
  },
  {
   "cell_type": "code",
   "execution_count": null,
   "id": "9ef99643",
   "metadata": {},
   "outputs": [],
   "source": [
    "ds.to_netcdf(DATA_DIR / \"soolist_1968010120241231.nc\")"
   ]
  }
 ],
 "metadata": {
  "kernelspec": {
   "display_name": "py313",
   "language": "python",
   "name": "python3"
  },
  "language_info": {
   "codemirror_mode": {
    "name": "ipython",
    "version": 3
   },
   "file_extension": ".py",
   "mimetype": "text/x-python",
   "name": "python",
   "nbconvert_exporter": "python",
   "pygments_lexer": "ipython3",
   "version": "3.13.5"
  }
 },
 "nbformat": 4,
 "nbformat_minor": 5
}
