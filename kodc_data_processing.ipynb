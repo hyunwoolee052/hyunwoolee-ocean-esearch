{
 "cells": [
  {
   "cell_type": "code",
   "execution_count": 2,
   "id": "2d2a6f6d-f36c-4ece-8839-cf0a8576a92d",
   "metadata": {
    "editable": true,
    "slideshow": {
     "slide_type": ""
    },
    "tags": []
   },
   "outputs": [],
   "source": [
    "import pandas as pd"
   ]
  },
  {
   "cell_type": "code",
   "execution_count": 3,
   "id": "fc16813c-45f4-45bd-8673-54f24cd0943d",
   "metadata": {},
   "outputs": [],
   "source": [
    "from pathlib import Path\n",
    "DATA_DIR = Path.cwd() / \"data/\""
   ]
  },
  {
   "cell_type": "code",
   "execution_count": 4,
   "id": "1e5b2444-9429-454e-add6-7dbcd0e82575",
   "metadata": {},
   "outputs": [],
   "source": [
    "sooList_1962 = pd.read_json(DATA_DIR / \"sooList_196801.json\")"
   ]
  },
  {
   "cell_type": "code",
   "execution_count": 5,
   "id": "eae20857-cc43-4749-8f48-8a9ae80072cf",
   "metadata": {},
   "outputs": [],
   "source": [
    "def concat_data(param_name: str, sdate: str, edate: str):\n",
    "    from datetime import datetime\n",
    "    collected = pd.DataFrame()\n",
    "\n",
    "    sdate_dt = datetime.strptime(sdate, \"%Y-%m-%d\")\n",
    "    edate_dt = datetime.strptime(edate, \"%Y-%m-%d\")\n",
    "\n",
    "    start_year = sdate_dt.year\n",
    "    end_year = edate_dt.year\n",
    "\n",
    "    for year in range(start_year, end_year + 1):\n",
    "        for month in range(1, 13):\n",
    "            f = DATA_DIR / f\"sooList_{year}{month:02d}.json\"\n",
    "            try:\n",
    "                if f.is_file():\n",
    "                    df = pd.read_json(f)\n",
    "                    if param_name in df.columns:\n",
    "                        collected = pd.concat([collected, df[[param_name]]], ignore_index=True)\n",
    "            except Exception as e:\n",
    "                print(f\"Error reading {f.name}: {e}\")\n",
    "\n",
    "    return collected\n"
   ]
  },
  {
   "cell_type": "code",
   "execution_count": null,
   "id": "d2555db6-88dc-4aef-b26e-33a4842977f2",
   "metadata": {
    "editable": true,
    "slideshow": {
     "slide_type": ""
    },
    "tags": []
   },
   "outputs": [],
   "source": [
    "sdate = \"1968-01-01\"\n",
    "edate = \"2025-12-31\"\n",
    "temperature = concat_data(\"wtr_tmp\", sdate, edate)\n",
    "depth = concat_data(\"wtr_dep\", sdate, edate)\n",
    "time = concat_data(\"obs_dtm\", sdate, edate)\n",
    "longitude = concat_data(\"lon\", sdate, edate)\n",
    "latitude = concat_data(\"lat\", sdate, edate)\n",
    "salinity = concat_data(\"sal\", sdate, edate)\n",
    "dissolved_oxygen = concat_data(\"dox\", sdate, edate)\n"
   ]
  },
  {
   "cell_type": "code",
   "execution_count": null,
   "id": "9a080334-5b07-4f73-9ada-84fa93ceb35c",
   "metadata": {},
   "outputs": [],
   "source": []
  }
 ],
 "metadata": {
  "kernelspec": {
   "display_name": "py313",
   "language": "python",
   "name": "python3"
  },
  "language_info": {
   "codemirror_mode": {
    "name": "ipython",
    "version": 3
   },
   "file_extension": ".py",
   "mimetype": "text/x-python",
   "name": "python",
   "nbconvert_exporter": "python",
   "pygments_lexer": "ipython3",
   "version": "3.13.5"
  }
 },
 "nbformat": 4,
 "nbformat_minor": 5
}
