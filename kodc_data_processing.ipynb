{
 "cells": [
  {
   "cell_type": "code",
   "execution_count": 1,
   "id": "2d2a6f6d-f36c-4ece-8839-cf0a8576a92d",
   "metadata": {},
   "outputs": [],
   "source": [
    "import pandas as pd"
   ]
  },
  {
   "cell_type": "code",
   "execution_count": 8,
   "id": "fc16813c-45f4-45bd-8673-54f24cd0943d",
   "metadata": {},
   "outputs": [],
   "source": [
    "from pathlib import Path\n",
    "DATA_DIR = Path.cwd() / \"data/\""
   ]
  },
  {
   "cell_type": "code",
   "execution_count": 51,
   "id": "1e5b2444-9429-454e-add6-7dbcd0e82575",
   "metadata": {},
   "outputs": [],
   "source": [
    "sooList_1962 = pd.read_json(DATA_DIR / \"sooList_196801.json\")"
   ]
  },
  {
   "cell_type": "code",
   "execution_count": 52,
   "id": "f426e0bc-0172-4e45-aacb-cac72bfc068e",
   "metadata": {},
   "outputs": [
    {
     "name": "stdout",
     "output_type": "stream",
     "text": [
      "     nut_no3_n  sln_cde       lon  wtr_trn  wtr_tmp  nut_no2_n gru_nam  \\\n",
      "0          NaN      208  130.8300      NaN    13.49        NaN      동해   \n",
      "1          NaN      208  130.8300      NaN    13.49        NaN      동해   \n",
      "2          NaN      208  130.8300      NaN    13.49        NaN      동해   \n",
      "3          NaN      208  130.8300      NaN    13.49        NaN      동해   \n",
      "4          NaN      208  130.8300      NaN    13.49        NaN      동해   \n",
      "..         ...      ...       ...      ...      ...        ...     ...   \n",
      "212        NaN      206  128.8283     13.0    16.04        NaN      남해   \n",
      "213        NaN      206  128.8283     13.0    15.51        NaN      남해   \n",
      "214        NaN      206  128.8283     13.0    13.43        NaN      남해   \n",
      "215        NaN      206  128.8283     13.0    10.98        NaN      남해   \n",
      "216        NaN      206  128.8283     13.0    10.52        NaN      남해   \n",
      "\n",
      "    res_vsl_nm  nut_sio2_si  wtr_dep  ...  sta_cde  qc_wtr  qc_sal  \\\n",
      "0           미상          NaN        0  ...       10       1       4   \n",
      "1           미상          NaN       10  ...       10       1       4   \n",
      "2           미상          NaN       20  ...       10       1       4   \n",
      "3           미상          NaN       30  ...       10       1       4   \n",
      "4           미상          NaN       50  ...       10       1       4   \n",
      "..         ...          ...      ...  ...      ...     ...     ...   \n",
      "212         미상          NaN       20  ...        3       1       4   \n",
      "213         미상          NaN       30  ...        3       1       4   \n",
      "214         미상          NaN       50  ...        3       1       4   \n",
      "215         미상          NaN       75  ...        3       1       4   \n",
      "216         미상          NaN       90  ...        3       1       4   \n",
      "\n",
      "              obs_dtm sal     atm  nut_ph  qc_dox  nut_po4_p      lat  \n",
      "0    1968-01-22 18:00 NaN  1022.1     NaN       1        NaN  34.5417  \n",
      "1    1968-01-22 18:00 NaN  1022.1     NaN       1        NaN  34.5417  \n",
      "2    1968-01-22 18:00 NaN  1022.1     NaN       1        NaN  34.5417  \n",
      "3    1968-01-22 18:00 NaN  1022.1     NaN       1        NaN  34.5417  \n",
      "4    1968-01-22 18:00 NaN  1022.1     NaN       1        NaN  34.5417  \n",
      "..                ...  ..     ...     ...     ...        ...      ...  \n",
      "212  1968-01-11 12:30 NaN  1026.1     NaN       1        NaN  34.3733  \n",
      "213  1968-01-11 12:30 NaN  1026.1     NaN       1        NaN  34.3733  \n",
      "214  1968-01-11 12:30 NaN  1026.1     NaN       1        NaN  34.3733  \n",
      "215  1968-01-11 12:30 NaN  1026.1     NaN       1        NaN  34.3733  \n",
      "216  1968-01-11 12:30 NaN  1026.1     NaN       1        NaN  34.3733  \n",
      "\n",
      "[217 rows x 21 columns]\n"
     ]
    }
   ],
   "source": [
    "print(sooList_1962)"
   ]
  },
  {
   "cell_type": "code",
   "execution_count": 63,
   "id": "eae20857-cc43-4749-8f48-8a9ae80072cf",
   "metadata": {},
   "outputs": [],
   "source": [
    "def concat_data(param_name: str, sdate: str, edate: str):\n",
    "    from datetime import datetime\n",
    "    collected = pd.DataFrame()\n",
    "\n",
    "    sdate_dt = datetime.strptime(sdate, \"%Y-%m-%d\")\n",
    "    edate_dt = datetime.strptime(edate, \"%Y-%m-%d\")\n",
    "\n",
    "    start_year = sdate_dt.year\n",
    "    end_year = edate_dt.year\n",
    "\n",
    "    for year in range(start_year, end_year + 1):\n",
    "        for month in range(1, 13):\n",
    "            f = DATA_DIR / f\"sooList_{year}{month:02d}.json\"\n",
    "            try:\n",
    "                if f.is_file():\n",
    "                    df = pd.read_json(f)\n",
    "                    if param_name in df.columns:\n",
    "                        collected = pd.concat([collected, df[[param_name]]], ignore_index=True)\n",
    "            except Exception as e:\n",
    "                print(f\"Error reading {f.name}: {e}\")\n",
    "\n",
    "    return collected\n"
   ]
  },
  {
   "cell_type": "code",
   "execution_count": 65,
   "id": "d2555db6-88dc-4aef-b26e-33a4842977f2",
   "metadata": {},
   "outputs": [
    {
     "data": {
      "text/html": [
       "<div>\n",
       "<style scoped>\n",
       "    .dataframe tbody tr th:only-of-type {\n",
       "        vertical-align: middle;\n",
       "    }\n",
       "\n",
       "    .dataframe tbody tr th {\n",
       "        vertical-align: top;\n",
       "    }\n",
       "\n",
       "    .dataframe thead th {\n",
       "        text-align: right;\n",
       "    }\n",
       "</style>\n",
       "<table border=\"1\" class=\"dataframe\">\n",
       "  <thead>\n",
       "    <tr style=\"text-align: right;\">\n",
       "      <th></th>\n",
       "      <th>wtr_tmp</th>\n",
       "    </tr>\n",
       "  </thead>\n",
       "  <tbody>\n",
       "    <tr>\n",
       "      <th>0</th>\n",
       "      <td>13.4900</td>\n",
       "    </tr>\n",
       "    <tr>\n",
       "      <th>1</th>\n",
       "      <td>13.4900</td>\n",
       "    </tr>\n",
       "    <tr>\n",
       "      <th>2</th>\n",
       "      <td>13.4900</td>\n",
       "    </tr>\n",
       "    <tr>\n",
       "      <th>3</th>\n",
       "      <td>13.4900</td>\n",
       "    </tr>\n",
       "    <tr>\n",
       "      <th>4</th>\n",
       "      <td>13.4900</td>\n",
       "    </tr>\n",
       "    <tr>\n",
       "      <th>...</th>\n",
       "      <td>...</td>\n",
       "    </tr>\n",
       "    <tr>\n",
       "      <th>510536</th>\n",
       "      <td>13.3284</td>\n",
       "    </tr>\n",
       "    <tr>\n",
       "      <th>510537</th>\n",
       "      <td>13.3243</td>\n",
       "    </tr>\n",
       "    <tr>\n",
       "      <th>510538</th>\n",
       "      <td>13.3156</td>\n",
       "    </tr>\n",
       "    <tr>\n",
       "      <th>510539</th>\n",
       "      <td>13.3157</td>\n",
       "    </tr>\n",
       "    <tr>\n",
       "      <th>510540</th>\n",
       "      <td>13.3163</td>\n",
       "    </tr>\n",
       "  </tbody>\n",
       "</table>\n",
       "<p>510541 rows × 1 columns</p>\n",
       "</div>"
      ],
      "text/plain": [
       "        wtr_tmp\n",
       "0       13.4900\n",
       "1       13.4900\n",
       "2       13.4900\n",
       "3       13.4900\n",
       "4       13.4900\n",
       "...         ...\n",
       "510536  13.3284\n",
       "510537  13.3243\n",
       "510538  13.3156\n",
       "510539  13.3157\n",
       "510540  13.3163\n",
       "\n",
       "[510541 rows x 1 columns]"
      ]
     },
     "execution_count": 65,
     "metadata": {},
     "output_type": "execute_result"
    }
   ],
   "source": [
    "concat_data(\"wtr_tmp\", \"1968-01-01\", \"2025-12-31\")"
   ]
  },
  {
   "cell_type": "code",
   "execution_count": null,
   "id": "86003426-b2ee-4f1a-8bdd-a5dff1de5904",
   "metadata": {},
   "outputs": [],
   "source": []
  }
 ],
 "metadata": {
  "kernelspec": {
   "display_name": "Python 3 (ipykernel)",
   "language": "python",
   "name": "python3"
  },
  "language_info": {
   "codemirror_mode": {
    "name": "ipython",
    "version": 3
   },
   "file_extension": ".py",
   "mimetype": "text/x-python",
   "name": "python",
   "nbconvert_exporter": "python",
   "pygments_lexer": "ipython3",
   "version": "3.13.5"
  }
 },
 "nbformat": 4,
 "nbformat_minor": 5
}
