{
 "cells": [
  {
   "cell_type": "code",
   "execution_count": null,
   "id": "d2938c0e",
   "metadata": {},
   "outputs": [],
   "source": [
    "# Import standard libraries\n",
    "from pathlib import Path\n",
    "from datetime import datetime\n",
    "\n",
    "# import third-party libraries\n",
    "import numpy as np\n",
    "import pandas as pd\n",
    "import scipy as sp\n",
    "import xarray as xr\n"
   ]
  },
  {
   "cell_type": "code",
   "execution_count": null,
   "id": "da0c6787",
   "metadata": {},
   "outputs": [],
   "source": [
    "# Define constants\n",
    "DATA_DIR = Path.cwd() / \"data/\"\n",
    "STANDARD_DEPTHS = np.array(\n",
    "    [\n",
    "        0,\n",
    "        10,\n",
    "        20,\n",
    "        30,\n",
    "        50,\n",
    "        75,\n",
    "        100,\n",
    "        125,\n",
    "        150,\n",
    "        200,\n",
    "        250,\n",
    "        300,\n",
    "        400,\n",
    "        500,\n",
    "    ]\n",
    ")"
   ]
  },
  {
   "cell_type": "code",
   "execution_count": null,
   "id": "af79d8ca",
   "metadata": {},
   "outputs": [],
   "source": [
    "def concat_data_array(param_name: str, sdate: str, edate: str) -> np.ndarray:\n",
    "    \"\"\"\n",
    "    Concatenate data arrays from JSON files for a given parameter and date range.\n",
    "\n",
    "    Parameters\n",
    "    ----------\n",
    "    param_name : str\n",
    "        Name of the parameter to extract from the JSON files (e.g., 'wtr_tmp', 'sal').\n",
    "    sdate : str\n",
    "        Start date in the format 'YYYY-MM-DD'.\n",
    "    edate : str\n",
    "        End date in the format 'YYYY-MM-DD'.\n",
    "\n",
    "    Returns\n",
    "    -------\n",
    "    np.ndarray\n",
    "        Concatenated array of the parameter values across the specified date range.\n",
    "    \"\"\"\n",
    "    data_list = []\n",
    "    sdate_dt = datetime.strptime(sdate, \"%Y-%m-%d\")\n",
    "    edate_dt = datetime.strptime(edate, \"%Y-%m-%d\")\n",
    "    start_year = sdate_dt.year\n",
    "    end_year = edate_dt.year\n",
    "    for year in range(start_year, end_year + 1):\n",
    "        for month in range(1, 13):\n",
    "            f = DATA_DIR / f\"sooList_{year}{month:02d}.json\"\n",
    "            if not f.is_file():\n",
    "                continue\n",
    "            df = pd.read_json(f)\n",
    "            arr = df[param_name].replace([\"\", None], np.nan)\n",
    "            data_list.append(arr.values)\n",
    "    if data_list:\n",
    "        return np.concatenate(data_list)\n",
    "    return np.array([])\n"
   ]
  },
  {
   "cell_type": "code",
   "execution_count": null,
   "id": "d28d96eb",
   "metadata": {},
   "outputs": [],
   "source": [
    "# Set date range\n",
    "sdate = \"1968-01-01\"\n",
    "edate = \"2024-12-31\"\n",
    "\n",
    "# Define parameters to extract\n",
    "params = [\n",
    "    \"wtr_tmp\",  # Water temperature\n",
    "    \"wtr_dep\",  # Water depth\n",
    "    \"obs_dtm\",  # Observation date and time\n",
    "    \"lon\",      # Longitude\n",
    "    \"lat\",      # Latitude\n",
    "    \"sal\",      # Salinity\n",
    "    \"dox\"       # Dissolved oxygen\n",
    "]\n"
   ]
  },
  {
   "cell_type": "code",
   "execution_count": null,
   "id": "b03044e2",
   "metadata": {},
   "outputs": [],
   "source": [
    "# Collect data for each parameter\n",
    "for param in params:\n",
    "    if param == \"obs_dtm\":\n",
    "        # Special handling for observation date and time\n",
    "        obs_time = concat_data_array(param, sdate, edate)\n",
    "        obs_time = pd.to_datetime(obs_time, errors=\"coerce\")\n",
    "        obs_time = obs_time.dropna().values\n",
    "    else:\n",
    "        # General case for other parameters\n",
    "        data = concat_data_array(param, sdate, edate)\n",
    "        if param == \"wtr_tmp\":\n",
    "            temperature = data\n",
    "        elif param == \"wtr_dep\":\n",
    "            depth = data\n",
    "        elif param == \"lon\":\n",
    "            longitude = data\n",
    "        elif param == \"lat\":\n",
    "            latitude = data\n",
    "        elif param == \"sal\":\n",
    "            salinity = data\n",
    "        elif param == \"dox\":\n",
    "            dissolved_oxygen = data"
   ]
  },
  {
   "cell_type": "code",
   "execution_count": null,
   "id": "6682580c",
   "metadata": {},
   "outputs": [],
   "source": []
  }
 ],
 "metadata": {
  "kernelspec": {
   "display_name": "py313",
   "language": "python",
   "name": "python3"
  },
  "language_info": {
   "codemirror_mode": {
    "name": "ipython",
    "version": 3
   },
   "file_extension": ".py",
   "mimetype": "text/x-python",
   "name": "python",
   "nbconvert_exporter": "python",
   "pygments_lexer": "ipython3",
   "version": "3.13.5"
  }
 },
 "nbformat": 4,
 "nbformat_minor": 5
}
